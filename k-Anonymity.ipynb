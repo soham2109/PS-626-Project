{
 "cells": [
  {
   "cell_type": "markdown",
   "metadata": {},
   "source": [
    "# k-Anonymity\n",
    "\n",
    "In this notebook, we'll explore data anonymization, in particular \"k-anonymity\" [1]. We will implement a simple algorithm [2] to produce a k-anonymous dataset.\n",
    "\n",
    "For more reading on the topic, please see: \n",
    "\n",
    "- [k-Anonymity: A Model For Protecting Privacy. Latanya Sweeney](https://epic.org/privacy/reidentification/Sweeney_Article.pdf)\n",
    "- [Mondrian - Multidimensional k-Anonymity](https://www.utdallas.edu/~muratk/courses/privacy08f_files/MultiDim.pdf)\n",
    "\n",
    "## Introduction\n",
    "\n",
    "\n",
    "k-anonymity protects the privacy of individual persons by pooling their attributes into groups of at least $k$ people. The method is based on the assumption that we have a dataset that contains $N$ entries. Each entry consists of a list of $D$ attributes $X_i$ ($i \\in [0,D]$) that contain (non-sensitive) information about a person, such as age, gender, zip code of residence, etc. These attributes are called \"quasi-identifiers\", as combining several of them into a \"super-identifier\" can often uniquely identify a person even in large datasets (e.g. the combination of gender, age and zip code might be so specific that only a single person in a dataset has a given combination). In addition, the model assumes that the dataset contains a single sensitive attribute that contains e.g. information about a person's income and that we want to protect. The method can also be generalized to datasets with more than one sensitive attribute or datasets where there's no clear distinction between quasi-identifiers and sensitive attributes. For this case study we will look at the simple case though.\n",
    "\n",
    "Now, k-anonymity demands that we group individual rows/persons of our dataset into group of at least $k$ rows/persons and replace the quasi-identifier attributes of these rows with aggregate quantities, such that it is no longer possible to read the individual values. This protects people by ensuring that an adversary who knows all values of a person's quasi-identifier attributes can only find out which group a person might belong to but not know if the person is really in the dataset.\n",
    "\n",
    "A large problem of this approach is that it might happen that all people in a k-anonymous group possess the same value of the sensitive attribute. An adversary who knows that a person is in that k-anonymous group can then still learn the value of the sensitive attribute of that person with absolute certainty. This problem can be fixed by using an extension of k-anonymity called \"l-diversity\": l-diversity ensures that each k-anonymous group contains at least l different values of the sensitive attribute. Therefore, evne if an adversary can identify the group of a person he/she still would not be able to find out the value of that person's sensitive attribute with certainty. \n",
    "\n",
    "However, even when using l-diversity an adversary could still learn some information about a person's sensitive attribute using probabilistic reasoning: If, for example, 4 out of 5 people in a 5-anonymous group possess a given value of the sensitive attribute, an attacker can reason that a given person who he/she knows is part of the group will -with high probability- possess that value. Again, this problem can be fixed by extending k-anonymity using a so-called \"t-closeness\" criterion: t-closeness demands that the statistical distribution of the sensitive attribute values in each k-anonymous group is \"close\" to the overall distribution of that attribute in the entire dataset. Typically, the closeness can be measured using e.g. the Kullback-Leibler (KL) divergence. An adversary could then only learn a limited amount of information from comparing the distribution of the values in the group to the distribution in the entire dataset.\n",
    "\n",
    "Of course, k-anonymity, l-diversity and t-closeness all limit the amount of information that a legitimate user can learn from the data as well, so typically we need to balance the degree of privacy against the utility of the resulting data.\n",
    "\n",
    "## Implementing k-anonymity\n",
    "\n",
    "Turning a dataset into a k-anonymous (and possibly l-diverse or t-close) dataset is a complex problem, and finding the optimal partition into k-anonymous groups is an NP-hard problem. Fortunately, several practical algorithms exists that often produce \"good enough\" results by employing greedy search techniques.\n",
    "\n",
    "In this tutorial we will explore the so-called \"Mondrian\" algorithm (see link above), which uses a greedy search algorithm to parition the original data into smaller and smaller groups (if we plot the resulting partition boundaries in 2D they resemble the pictures by Piet Mondrian, hence the name).\n",
    "\n",
    "The algorithm assumes that we have converted all attributes into numerical or categorical values and that we're able to measure the \"span\" of a given data attribute $X_i$ (we'll explain that in more detail later).\n",
    "\n",
    "### Partitioning\n",
    "\n",
    "The algorithm proceeds then as follows to partition the data into k-anonymous gorups:\n",
    "\n",
    "1. Initialize the finished set of partitions to an empty set $P_{finished} = \\{\\}$.\n",
    "2. Initialize the working set of paritions to a set containing a partition with the entire dataset $P_{working} = \\{\\{1, 2,\\dots ,N\\}\\}$.\n",
    "4. While there are partitions in the working set, pop one partition from it and\n",
    "  * Calculate the relative spans of all columns in the partition.\n",
    "  * Sort the resulting columns by their span (in descending order) and iterate over them. For each column,\n",
    "      * Try to split the partition along that column using the median of the column values as the split point.\n",
    "      * Check if the resulting partitions are valid according to our k-anonymity (and possibly additional) criteria.\n",
    "      * If yes, add the two new partitions to the working set and break out of the loop.\n",
    "  * If no column produced a valid split, add the original partition to the set of finished partitions.\n",
    "5. Return the finished set of partitions\n",
    "\n",
    "### Data Aggregation\n",
    "\n",
    "After obtaining the partitions we still need to aggregate the values of the quasi identifiers and the sensitive attributes in each k-anonymous group. For this, we can e.g. replace numerical attributes with their range (e.g. \"age: 24-28\") and categorical attributes with their union (e.g. \"employment-group: [self-employed, employee, worker]\"), though other aggregations are possible. Methods like [Anatomy](http://citeseerx.ist.psu.edu/viewdoc/download?doi=10.1.1.156.9150&rep=rep1&type=pdf) even preserve the micro-data in each group, which increases re-identification risk though.\n",
    "\n",
    "## Usage of the Anonymized Data\n",
    "\n",
    "We can then use the anonymized data for privacy-preserving machine learning, e.g. using scikit-learn. If we have time at the end of this part we'll cover this as well. With the dataset generation method discussed here you can use the resulting datasets just as you would use a normal dataset though, so there's really nothing special about the anonymized data here.\n",
    "\n",
    "Let's get started with the anonymization!"
   ]
  },
  {
   "cell_type": "code",
   "execution_count": 1,
   "metadata": {},
   "outputs": [],
   "source": [
    "# we use Pandas to work with the data as it makes working with categorical data very easy\n",
    "import pandas as pd\n",
    "import matplotlib.pyplot as plt\n",
    "import matplotlib.patches as patches\n",
    "from matplotlib import rc\n",
    "\n",
    "%matplotlib inline\n",
    "plt.style.use(\"classic\")\n",
    "rc('font',**{'family':'sans-serif','sans-serif':['Palatino']})\n",
    "rc('text', usetex=True)\n",
    "# plt.rc(\"text\", usetex=True)\n",
    "plt.rcParams.update({\"figure.figsize\" : (12, 8),\n",
    "                     \"axes.facecolor\" : \"white\"})\n",
    "plt.rcParams[\"figure.autolayout\"] = True\n",
    "# pd.set_option('max_columns', None)"
   ]
  },
  {
   "cell_type": "code",
   "execution_count": 2,
   "metadata": {},
   "outputs": [],
   "source": [
    "# this is a list of the column names in our dataset (as the file doesn't contain any headers)\n",
    "# names = (\n",
    "#     'age',\n",
    "#     'workclass', #Private, Self-emp-not-inc, Self-emp-inc, Federal-gov, Local-gov, State-gov, Without-pay, Never-worked.\n",
    "#     'fnlwgt', # \"weight\" of that person in the dataset (i.e. how many people does that person represent) -> https://www.kansascityfed.org/research/datamuseum/cps/coreinfo/keyconcepts/weights\n",
    "#     'education',\n",
    "#     'education-num',\n",
    "#     'marital-status',\n",
    "#     'occupation',\n",
    "#     'relationship',\n",
    "#     'race',\n",
    "#     'sex',\n",
    "#     'capital-gain',\n",
    "#     'capital-loss',\n",
    "#     'hours-per-week',\n",
    "#     'native-country',\n",
    "#     'income',\n",
    "# )\n",
    "\n",
    "# some fields are categorical and will require special treatment\n",
    "# categorical = set((\n",
    "#     'workclass',\n",
    "#     'education',\n",
    "#     'marital-status',\n",
    "#     'occupation',\n",
    "#     'relationship',\n",
    "#     'sex',\n",
    "#     'native-country',\n",
    "#     'race',\n",
    "#     'income',\n",
    "# ))\n",
    "df = pd.read_csv(\"mimic3d.csv\", \n",
    "                 sep=\",\", \n",
    "                 # header=None, \n",
    "                 # names=names, \n",
    "                 index_col=\"hadm_id\", \n",
    "                 engine='python');# We load the data using Pandas\n",
    "df.drop(['AdmitDiagnosis','AdmitProcedure','LOSdays'],axis=1,inplace=True)\n",
    "names = df.columns.to_list()\n",
    "\n",
    "df[\"LOSgroupNum\"]=df[\"LOSgroupNum\"].apply(lambda x: str(x))\n",
    "categorical = [col for col in df.columns if df[col].dtype==\"object\"]\n",
    "numerical = [col for col in df.columns if df[col].dtype!=\"object\"]"
   ]
  },
  {
   "cell_type": "code",
   "execution_count": 3,
   "metadata": {},
   "outputs": [
    {
     "data": {
      "text/html": [
       "<div>\n",
       "<style scoped>\n",
       "    .dataframe tbody tr th:only-of-type {\n",
       "        vertical-align: middle;\n",
       "    }\n",
       "\n",
       "    .dataframe tbody tr th {\n",
       "        vertical-align: top;\n",
       "    }\n",
       "\n",
       "    .dataframe thead th {\n",
       "        text-align: right;\n",
       "    }\n",
       "</style>\n",
       "<table border=\"1\" class=\"dataframe\">\n",
       "  <thead>\n",
       "    <tr style=\"text-align: right;\">\n",
       "      <th></th>\n",
       "      <th>gender</th>\n",
       "      <th>age</th>\n",
       "      <th>admit_type</th>\n",
       "      <th>admit_location</th>\n",
       "      <th>insurance</th>\n",
       "      <th>religion</th>\n",
       "      <th>marital_status</th>\n",
       "      <th>ethnicity</th>\n",
       "      <th>NumCallouts</th>\n",
       "      <th>NumDiagnosis</th>\n",
       "      <th>...</th>\n",
       "      <th>NumMicroLabs</th>\n",
       "      <th>NumNotes</th>\n",
       "      <th>NumOutput</th>\n",
       "      <th>NumRx</th>\n",
       "      <th>NumProcEvents</th>\n",
       "      <th>NumTransfers</th>\n",
       "      <th>NumChartEvents</th>\n",
       "      <th>ExpiredHospital</th>\n",
       "      <th>TotalNumInteract</th>\n",
       "      <th>LOSgroupNum</th>\n",
       "    </tr>\n",
       "    <tr>\n",
       "      <th>hadm_id</th>\n",
       "      <th></th>\n",
       "      <th></th>\n",
       "      <th></th>\n",
       "      <th></th>\n",
       "      <th></th>\n",
       "      <th></th>\n",
       "      <th></th>\n",
       "      <th></th>\n",
       "      <th></th>\n",
       "      <th></th>\n",
       "      <th></th>\n",
       "      <th></th>\n",
       "      <th></th>\n",
       "      <th></th>\n",
       "      <th></th>\n",
       "      <th></th>\n",
       "      <th></th>\n",
       "      <th></th>\n",
       "      <th></th>\n",
       "      <th></th>\n",
       "      <th></th>\n",
       "    </tr>\n",
       "  </thead>\n",
       "  <tbody>\n",
       "    <tr>\n",
       "      <th>100001</th>\n",
       "      <td>F</td>\n",
       "      <td>35</td>\n",
       "      <td>EMERGENCY</td>\n",
       "      <td>CLINIC REFERRAL/PREMATURE</td>\n",
       "      <td>Private</td>\n",
       "      <td>PROTESTANT QUAKER</td>\n",
       "      <td>DIVORCED</td>\n",
       "      <td>WHITE</td>\n",
       "      <td>0.16</td>\n",
       "      <td>2.59</td>\n",
       "      <td>...</td>\n",
       "      <td>0.65</td>\n",
       "      <td>0.05</td>\n",
       "      <td>5.19</td>\n",
       "      <td>14.91</td>\n",
       "      <td>1.13</td>\n",
       "      <td>0.65</td>\n",
       "      <td>398.70</td>\n",
       "      <td>0</td>\n",
       "      <td>493.89</td>\n",
       "      <td>1</td>\n",
       "    </tr>\n",
       "    <tr>\n",
       "      <th>100003</th>\n",
       "      <td>M</td>\n",
       "      <td>59</td>\n",
       "      <td>EMERGENCY</td>\n",
       "      <td>EMERGENCY ROOM ADMIT</td>\n",
       "      <td>Private</td>\n",
       "      <td>NOT SPECIFIED</td>\n",
       "      <td>SINGLE</td>\n",
       "      <td>WHITE</td>\n",
       "      <td>0.25</td>\n",
       "      <td>2.23</td>\n",
       "      <td>...</td>\n",
       "      <td>1.24</td>\n",
       "      <td>1.59</td>\n",
       "      <td>5.45</td>\n",
       "      <td>7.18</td>\n",
       "      <td>0.99</td>\n",
       "      <td>1.24</td>\n",
       "      <td>373.02</td>\n",
       "      <td>0</td>\n",
       "      <td>465.71</td>\n",
       "      <td>1</td>\n",
       "    </tr>\n",
       "    <tr>\n",
       "      <th>100006</th>\n",
       "      <td>F</td>\n",
       "      <td>48</td>\n",
       "      <td>EMERGENCY</td>\n",
       "      <td>EMERGENCY ROOM ADMIT</td>\n",
       "      <td>Private</td>\n",
       "      <td>NOT SPECIFIED</td>\n",
       "      <td>SINGLE</td>\n",
       "      <td>BLACK/AFRICAN AMERICAN</td>\n",
       "      <td>0.00</td>\n",
       "      <td>0.75</td>\n",
       "      <td>...</td>\n",
       "      <td>0.33</td>\n",
       "      <td>0.15</td>\n",
       "      <td>4.15</td>\n",
       "      <td>6.23</td>\n",
       "      <td>0.00</td>\n",
       "      <td>0.33</td>\n",
       "      <td>286.21</td>\n",
       "      <td>0</td>\n",
       "      <td>344.00</td>\n",
       "      <td>3</td>\n",
       "    </tr>\n",
       "    <tr>\n",
       "      <th>100007</th>\n",
       "      <td>F</td>\n",
       "      <td>73</td>\n",
       "      <td>EMERGENCY</td>\n",
       "      <td>EMERGENCY ROOM ADMIT</td>\n",
       "      <td>Private</td>\n",
       "      <td>JEWISH</td>\n",
       "      <td>MARRIED</td>\n",
       "      <td>WHITE</td>\n",
       "      <td>0.41</td>\n",
       "      <td>0.69</td>\n",
       "      <td>...</td>\n",
       "      <td>0.69</td>\n",
       "      <td>0.17</td>\n",
       "      <td>9.05</td>\n",
       "      <td>11.52</td>\n",
       "      <td>0.00</td>\n",
       "      <td>0.96</td>\n",
       "      <td>526.06</td>\n",
       "      <td>0</td>\n",
       "      <td>603.05</td>\n",
       "      <td>1</td>\n",
       "    </tr>\n",
       "    <tr>\n",
       "      <th>100009</th>\n",
       "      <td>M</td>\n",
       "      <td>60</td>\n",
       "      <td>EMERGENCY</td>\n",
       "      <td>TRANSFER FROM HOSP/EXTRAM</td>\n",
       "      <td>Private</td>\n",
       "      <td>CATHOLIC</td>\n",
       "      <td>MARRIED</td>\n",
       "      <td>WHITE</td>\n",
       "      <td>0.00</td>\n",
       "      <td>3.69</td>\n",
       "      <td>...</td>\n",
       "      <td>0.61</td>\n",
       "      <td>0.34</td>\n",
       "      <td>16.19</td>\n",
       "      <td>25.00</td>\n",
       "      <td>2.87</td>\n",
       "      <td>2.05</td>\n",
       "      <td>554.92</td>\n",
       "      <td>0</td>\n",
       "      <td>679.84</td>\n",
       "      <td>1</td>\n",
       "    </tr>\n",
       "  </tbody>\n",
       "</table>\n",
       "<p>5 rows × 24 columns</p>\n",
       "</div>"
      ],
      "text/plain": [
       "        gender  age admit_type             admit_location insurance  \\\n",
       "hadm_id                                                               \n",
       "100001       F   35  EMERGENCY  CLINIC REFERRAL/PREMATURE   Private   \n",
       "100003       M   59  EMERGENCY       EMERGENCY ROOM ADMIT   Private   \n",
       "100006       F   48  EMERGENCY       EMERGENCY ROOM ADMIT   Private   \n",
       "100007       F   73  EMERGENCY       EMERGENCY ROOM ADMIT   Private   \n",
       "100009       M   60  EMERGENCY  TRANSFER FROM HOSP/EXTRAM   Private   \n",
       "\n",
       "                  religion marital_status               ethnicity  \\\n",
       "hadm_id                                                             \n",
       "100001   PROTESTANT QUAKER       DIVORCED                   WHITE   \n",
       "100003       NOT SPECIFIED         SINGLE                   WHITE   \n",
       "100006       NOT SPECIFIED         SINGLE  BLACK/AFRICAN AMERICAN   \n",
       "100007              JEWISH        MARRIED                   WHITE   \n",
       "100009            CATHOLIC        MARRIED                   WHITE   \n",
       "\n",
       "         NumCallouts  NumDiagnosis  ...  NumMicroLabs  NumNotes  NumOutput  \\\n",
       "hadm_id                             ...                                      \n",
       "100001          0.16          2.59  ...          0.65      0.05       5.19   \n",
       "100003          0.25          2.23  ...          1.24      1.59       5.45   \n",
       "100006          0.00          0.75  ...          0.33      0.15       4.15   \n",
       "100007          0.41          0.69  ...          0.69      0.17       9.05   \n",
       "100009          0.00          3.69  ...          0.61      0.34      16.19   \n",
       "\n",
       "         NumRx  NumProcEvents  NumTransfers  NumChartEvents  ExpiredHospital  \\\n",
       "hadm_id                                                                        \n",
       "100001   14.91           1.13          0.65          398.70                0   \n",
       "100003    7.18           0.99          1.24          373.02                0   \n",
       "100006    6.23           0.00          0.33          286.21                0   \n",
       "100007   11.52           0.00          0.96          526.06                0   \n",
       "100009   25.00           2.87          2.05          554.92                0   \n",
       "\n",
       "         TotalNumInteract  LOSgroupNum  \n",
       "hadm_id                                 \n",
       "100001             493.89            1  \n",
       "100003             465.71            1  \n",
       "100006             344.00            3  \n",
       "100007             603.05            1  \n",
       "100009             679.84            1  \n",
       "\n",
       "[5 rows x 24 columns]"
      ]
     },
     "execution_count": 3,
     "metadata": {},
     "output_type": "execute_result"
    }
   ],
   "source": [
    "df.head()\n"
   ]
  },
  {
   "cell_type": "code",
   "execution_count": 4,
   "metadata": {},
   "outputs": [],
   "source": [
    "for name in categorical:\n",
    "    df[name] = df[name].astype('category')\n",
    "\n",
    "df.drop(columns=[\"marital_status\"], inplace=True)\n",
    "categorical.remove(\"marital_status\")\n",
    "names.remove(\"marital_status\")\n",
    "\n",
    "# df[\"AdmitDiagnosis\"] = df[\"AdmitDiagnosis\"].cat.add_categories(\"unknown\")\n",
    "df[\"religion\"] = df[\"religion\"].cat.add_categories(\"unknown\")\n",
    "# df[\"AdmitDiagnosis\"].fillna(\"unknown\", inplace=True)\n",
    "df[\"religion\"].fillna(\"unknown\", inplace=True)"
   ]
  },
  {
   "cell_type": "code",
   "execution_count": 5,
   "metadata": {},
   "outputs": [
    {
     "name": "stdout",
     "output_type": "stream",
     "text": [
      "['gender', 'admit_type', 'admit_location', 'insurance', 'religion', 'ethnicity', 'LOSgroupNum']\n",
      "['gender', 'age', 'admit_type', 'admit_location', 'insurance', 'religion', 'ethnicity', 'NumCallouts', 'NumDiagnosis', 'NumProcs', 'NumCPTevents', 'NumInput', 'NumLabs', 'NumMicroLabs', 'NumNotes', 'NumOutput', 'NumRx', 'NumProcEvents', 'NumTransfers', 'NumChartEvents', 'ExpiredHospital', 'TotalNumInteract', 'LOSgroupNum']\n"
     ]
    }
   ],
   "source": [
    "print(categorical)\n",
    "print(names)\n",
    "# print(df[\"gender\"].dtype)\n",
    "# print(df.isnull().sum())"
   ]
  },
  {
   "cell_type": "markdown",
   "metadata": {},
   "source": [
    "**Implement a function that returns the spans (max-min for numerical columns, number of different values for categorical columns) of all columns for a partition of a dataframe.** "
   ]
  },
  {
   "cell_type": "code",
   "execution_count": 6,
   "metadata": {},
   "outputs": [],
   "source": [
    "def get_spans(df, partition, scale=None):\n",
    "    \"\"\"\n",
    "    :param        df: the dataframe for which to calculate the spans\n",
    "    :param partition: the partition for which to calculate the spans\n",
    "    :param     scale: if given, the spans of each column will be divided\n",
    "                      by the value in `scale` for that column\n",
    "    :        returns: The spans of all columns in the partition\n",
    "    \"\"\"\n",
    "    spans = {}\n",
    "    for column in df.columns:\n",
    "        if column in categorical:\n",
    "            span = len(df[column][partition].unique())\n",
    "        else:\n",
    "            # print(\"Column:\",column)\n",
    "            span = df[column][partition].max()-df[column][partition].min()\n",
    "        if scale is not None:\n",
    "            span = span/scale[column]\n",
    "        spans[column] = span\n",
    "    return spans"
   ]
  },
  {
   "cell_type": "code",
   "execution_count": 7,
   "metadata": {},
   "outputs": [
    {
     "data": {
      "text/plain": [
       "{'gender': 2,\n",
       " 'age': 89,\n",
       " 'admit_type': 4,\n",
       " 'admit_location': 9,\n",
       " 'insurance': 5,\n",
       " 'religion': 21,\n",
       " 'ethnicity': 41,\n",
       " 'NumCallouts': 4.76,\n",
       " 'NumDiagnosis': 450.0,\n",
       " 'NumProcs': 275.0,\n",
       " 'NumCPTevents': 225.0,\n",
       " 'NumInput': 6825.0,\n",
       " 'NumLabs': 5175.0,\n",
       " 'NumMicroLabs': 375.0,\n",
       " 'NumNotes': 7500.0,\n",
       " 'NumOutput': 375.0,\n",
       " 'NumRx': 750.0,\n",
       " 'NumProcEvents': 100.0,\n",
       " 'NumTransfers': 125.0,\n",
       " 'NumChartEvents': 49325.0,\n",
       " 'ExpiredHospital': 1,\n",
       " 'TotalNumInteract': 68600.0,\n",
       " 'LOSgroupNum': 4}"
      ]
     },
     "execution_count": 7,
     "metadata": {},
     "output_type": "execute_result"
    }
   ],
   "source": [
    "full_spans = get_spans(df, df.index)\n",
    "full_spans"
   ]
  },
  {
   "cell_type": "markdown",
   "metadata": {},
   "source": [
    "**Implement a `split` function that takes a dataframe, partition and column and returns two partitions that split the given partition such that all rows with values of the column `column` below the median are in one partition and all rows with values above or equal to the median are in the other.**"
   ]
  },
  {
   "cell_type": "code",
   "execution_count": 8,
   "metadata": {},
   "outputs": [],
   "source": [
    "def split(df, partition, column):\n",
    "    \"\"\"\n",
    "    :param        df: The dataframe to split\n",
    "    :param partition: The partition to split\n",
    "    :param    column: The column along which to split\n",
    "    :        returns: A tuple containing a split of the original partition\n",
    "    \"\"\"\n",
    "    dfp = df[column][partition]\n",
    "    if column in categorical:\n",
    "        values = dfp.unique()\n",
    "        lv = set(values[:len(values)//2])\n",
    "        rv = set(values[len(values)//2:])\n",
    "        return dfp.index[dfp.isin(lv)], dfp.index[dfp.isin(rv)]\n",
    "    else:        \n",
    "        median = dfp.median()\n",
    "        dfl = dfp.index[dfp < median]\n",
    "        dfr = dfp.index[dfp >= median]\n",
    "        return (dfl, dfr)"
   ]
  },
  {
   "cell_type": "markdown",
   "metadata": {},
   "source": [
    "Now that we have all helper functions in place, we can implement the partition algorithm discussed above:\n",
    "\n",
    "**Implement the partitioning algorithm discussed above, using a k-anonymous criterion for the partitions you create.**"
   ]
  },
  {
   "cell_type": "code",
   "execution_count": 9,
   "metadata": {},
   "outputs": [],
   "source": [
    "def is_k_anonymous(df, partition, sensitive_column, k=750):\n",
    "    \"\"\"\n",
    "    :param               df: The dataframe on which to check the partition.\n",
    "    :param        partition: The partition of the dataframe to check.\n",
    "    :param sensitive_column: The name of the sensitive column\n",
    "    :param                k: The desired k\n",
    "    :returns               : True if the partition is valid according to our k-anonymity criteria, False otherwise.\n",
    "    \"\"\"\n",
    "    if len(partition) < k:\n",
    "        return False\n",
    "    return True\n",
    "\n",
    "def partition_dataset(df, feature_columns, sensitive_column, scale, is_valid):\n",
    "    \"\"\"\n",
    "    :param               df: The dataframe to be partitioned.\n",
    "    :param  feature_columns: A list of column names along which to partition the dataset.\n",
    "    :param sensitive_column: The name of the sensitive column (to be passed on to the `is_valid` function)\n",
    "    :param            scale: The column spans as generated before.\n",
    "    :param         is_valid: A function that takes a dataframe and a partition and returns True if the partition is valid.\n",
    "    :returns               : A list of valid partitions that cover the entire dataframe.\n",
    "    \"\"\"\n",
    "    finished_partitions = []\n",
    "    partitions = [df.index]\n",
    "    while partitions:\n",
    "        partition = partitions.pop(0)\n",
    "        spans = get_spans(df[feature_columns], partition, scale)\n",
    "        for column, span in sorted(spans.items(), key=lambda x:-x[1]):\n",
    "            lp, rp = split(df, partition, column)\n",
    "            if not is_valid(df, lp, sensitive_column) or not is_valid(df, rp, sensitive_column):\n",
    "                continue\n",
    "            partitions.extend((lp, rp))\n",
    "            break\n",
    "        else:\n",
    "            finished_partitions.append(partition)\n",
    "    return finished_partitions"
   ]
  },
  {
   "cell_type": "markdown",
   "metadata": {},
   "source": [
    "Now let's try this on our dataset! To keep things simple, we will at first select only two columns from the dataset that we apply the partitioning to. This makes it easier to check/visualize the result and speed up the execution (the naive algorithm can take several minutes when running on the entire dataset) "
   ]
  },
  {
   "cell_type": "code",
   "execution_count": 10,
   "metadata": {},
   "outputs": [],
   "source": [
    "# we apply our partitioning method to two columns of our dataset, using \"income\" as the sensitive attribute\n",
    "sensitive_column = 'LOSgroupNum'\n",
    "feature_columns = [col for col in names if col!=sensitive_column]\n",
    "finished_partitions = partition_dataset(df, \n",
    "                                        feature_columns, \n",
    "                                        sensitive_column, \n",
    "                                        full_spans, \n",
    "                                        is_k_anonymous)"
   ]
  },
  {
   "cell_type": "code",
   "execution_count": 11,
   "metadata": {},
   "outputs": [
    {
     "name": "stdout",
     "output_type": "stream",
     "text": [
      "63\n"
     ]
    }
   ],
   "source": [
    "# we get the number of partitions that were created\n",
    "print(len(finished_partitions))"
   ]
  },
  {
   "cell_type": "markdown",
   "metadata": {},
   "source": [
    "Let's visualize the created partitions! To do that, we will write functions to get the rectangular bounds of a partition along two columns. We can then plot these rects to see how our partitioning function divides the dataset. If we perform the partition only along the two columns selected for plotting then the resulting rects should not overlap and cover the entire dataset."
   ]
  },
  {
   "cell_type": "code",
   "execution_count": 12,
   "metadata": {},
   "outputs": [],
   "source": [
    "def build_indexes(df):\n",
    "    indexes = {}\n",
    "    for column in categorical:\n",
    "        values = sorted(df[column].unique())\n",
    "        indexes[column] = { x : y for x, y in zip(values, range(len(values)))}\n",
    "#         except Exception as e:\n",
    "#             print(e)\n",
    "#             print(column)\n",
    "    return indexes\n",
    "\n",
    "def get_coords(df, column, partition, indexes, offset=0.1):\n",
    "    if column in categorical:\n",
    "        sv = df[column][partition].sort_values()\n",
    "        l, r = indexes[column][sv[sv.index[0]]], indexes[column][sv[sv.index[-1]]]+1.0\n",
    "    else:\n",
    "        sv = df[column][partition].sort_values()\n",
    "        next_value = sv[sv.index[-1]]\n",
    "        larger_values = df[df[column] > next_value][column]\n",
    "        if len(larger_values) > 0:\n",
    "            next_value = larger_values.min()\n",
    "        l = sv[sv.index[0]]\n",
    "        r = next_value\n",
    "    # we add some offset to make the partitions more easily visible\n",
    "    l -= offset\n",
    "    r += offset\n",
    "    return l, r\n",
    "\n",
    "def get_partition_rects(df, partitions, column_x, column_y, indexes, offsets=[0.1, 0.1]):\n",
    "    rects = []\n",
    "    for partition in partitions:\n",
    "        xl, xr = get_coords(df, column_x, partition, indexes, offset=offsets[0])\n",
    "        yl, yr = get_coords(df, column_y, partition, indexes, offset=offsets[1])\n",
    "        rects.append(((xl, yl),(xr, yr)))\n",
    "    return rects\n",
    "\n",
    "def get_bounds(df, column, indexes, offset=1.0):\n",
    "    if column in categorical:\n",
    "        return 0-offset, len(indexes[column])+offset\n",
    "    return df[column].min()-offset, df[column].max()+offset"
   ]
  },
  {
   "cell_type": "code",
   "execution_count": 13,
   "metadata": {},
   "outputs": [],
   "source": [
    "# we calculate the bounding rects of all partitions that we created\n",
    "indexes = build_indexes(df)\n",
    "column_x, column_y = \"NumTransfers\", \"NumCallouts\"\n",
    "rects = get_partition_rects(df, \n",
    "                            finished_partitions, \n",
    "                            column_x, \n",
    "                            column_y, \n",
    "                            indexes, \n",
    "                            offsets=[0.0, 0.0])"
   ]
  },
  {
   "cell_type": "code",
   "execution_count": 14,
   "metadata": {},
   "outputs": [
    {
     "name": "stdout",
     "output_type": "stream",
     "text": [
      "[((0.0, 0.0), (125.0, 0.25)), ((0.0, 0.0), (100.0, 1.72)), ((0.0, 0.0), (100.0, 2.0)), ((0.0, 0.0), (0.97, 0.37)), ((0.0, 0.0), (0.97, 0.38)), ((0.97, 0.0), (1.69, 0.57)), ((1.69, 0.0), (125.0, 0.73)), ((0.0, 0.0), (0.61, 0.87)), ((0.0, 0.0), (0.61, 0.47)), ((0.61, 0.0), (0.96, 0.76))]\n"
     ]
    }
   ],
   "source": [
    "# let's see how our rects look like\n",
    "print(rects[:10])"
   ]
  },
  {
   "cell_type": "code",
   "execution_count": 15,
   "metadata": {},
   "outputs": [],
   "source": [
    "# we plot the rects\n",
    "def plot_rects(df, ax, rects, column_x, column_y, edgecolor='black', facecolor='none'):\n",
    "    for (xl, yl),(xr, yr) in rects:\n",
    "        ax.add_patch(patches.Rectangle((xl,yl),\n",
    "                                       xr-xl,\n",
    "                                       yr-yl,\n",
    "                                       linewidth=4,\n",
    "                                       edgecolor=edgecolor,\n",
    "                                       facecolor=facecolor, \n",
    "                                       alpha=0.7))\n",
    "    ax.set_xlim(*get_bounds(df, column_x, indexes))\n",
    "    ax.set_ylim(*get_bounds(df, column_y, indexes))\n",
    "    ax.set_xlabel(column_x, fontsize = 80)\n",
    "    ax.set_ylabel(column_y, fontsize = 80)\n",
    "    ax.tick_params(axis = 'both', which = 'major', labelsize = 60)"
   ]
  },
  {
   "cell_type": "code",
   "execution_count": 16,
   "metadata": {},
   "outputs": [
    {
     "data": {
      "image/png": "[encoded data removed]",
      "text/plain": [
       "<Figure size 1600x1600 with 1 Axes>"
      ]
     },
     "metadata": {},
     "output_type": "display_data"
    }
   ],
   "source": [
    "plt.figure(figsize=(20,20))\n",
    "ax = plt.subplot(111)\n",
    "plot_rects(df, ax, rects, column_x, column_y, facecolor='r')\n",
    "plt.scatter(df[column_x], df[column_y],color=\"k\",s=85)\n",
    "plt.savefig(\"plots/before_k_anonymity.pdf\",\n",
    "          bbox_inches=\"tight\",\n",
    "          dpi=300)"
   ]
  },
  {
   "cell_type": "markdown",
   "metadata": {},
   "source": [
    "# Generating an k-Anonymous Dataset\n",
    "\n",
    "Of course, to use the data we want to produce a new dataset that contains one row for each partition and value of the sensitive attribute. To do this, we need to aggregate the columns in each partition.  Let's do this!"
   ]
  },
  {
   "cell_type": "code",
   "execution_count": 17,
   "metadata": {},
   "outputs": [],
   "source": [
    "def agg_categorical_column(series):\n",
    "    return ','.join(set(series))\n",
    "\n",
    "def agg_numerical_column(series):\n",
    "    return series.mean()"
   ]
  },
  {
   "cell_type": "code",
   "execution_count": 18,
   "metadata": {},
   "outputs": [],
   "source": [
    "def build_anonymized_dataset(df, partitions, \n",
    "                             feature_columns, \n",
    "                             sensitive_column,\n",
    "                             categorical,\n",
    "                             max_partitions=None):\n",
    "#     aggregations = {}\n",
    "#     for column in feature_columns:\n",
    "#         if column in categorical:\n",
    "#             aggregations[column] = agg_categorical_column\n",
    "#         else:\n",
    "#             aggregations[column] = agg_numerical_column\n",
    "    cat_df = df[[col for col in df.columns if col in categorical]]\n",
    "    num_df = df[[col for col in df.columns if col not in categorical]]\n",
    "    rows = []\n",
    "    for i, partition in enumerate(partitions):\n",
    "        if i % 100 == 1:\n",
    "            print(\"Finished {} partitions...\".format(i))\n",
    "        if max_partitions is not None and i > max_partitions:\n",
    "            break\n",
    "        \n",
    "#         grouped_columns = df.loc[partition]\n",
    "#         print(type(grouped_columns))\n",
    "#         grouped_columns = grouped_columns.agg(aggregations, \n",
    "#                                                 squeeze=False)\n",
    "#         print(type(grouped_columns))\n",
    "        grouped_columns = pd.concat([num_df.agg(agg_numerical_column), \n",
    "                                       cat_df.agg(agg_categorical_column)], axis=0)\n",
    "        sensitive_counts = df.loc[partition].groupby(sensitive_column).agg({sensitive_column : 'count'})\n",
    "        values = grouped_columns.to_dict()\n",
    "        for sensitive_value, count in sensitive_counts[sensitive_column].items():\n",
    "            if count == 0:\n",
    "                continue\n",
    "            values.update({\n",
    "                sensitive_column : sensitive_value,\n",
    "                'count' : count})\n",
    "            rows.append(values.copy())\n",
    "    return pd.DataFrame(rows)"
   ]
  },
  {
   "cell_type": "code",
   "execution_count": 19,
   "metadata": {},
   "outputs": [
    {
     "name": "stdout",
     "output_type": "stream",
     "text": [
      "Finished 1 partitions...\n"
     ]
    }
   ],
   "source": [
    "dfn = build_anonymized_dataset(df, \n",
    "                               finished_partitions, \n",
    "                               feature_columns, \n",
    "                               sensitive_column,\n",
    "                              categorical)"
   ]
  },
  {
   "cell_type": "code",
   "execution_count": 20,
   "metadata": {},
   "outputs": [
    {
     "data": {
      "text/html": [
       "<div>\n",
       "<style scoped>\n",
       "    .dataframe tbody tr th:only-of-type {\n",
       "        vertical-align: middle;\n",
       "    }\n",
       "\n",
       "    .dataframe tbody tr th {\n",
       "        vertical-align: top;\n",
       "    }\n",
       "\n",
       "    .dataframe thead th {\n",
       "        text-align: right;\n",
       "    }\n",
       "</style>\n",
       "<table border=\"1\" class=\"dataframe\">\n",
       "  <thead>\n",
       "    <tr style=\"text-align: right;\">\n",
       "      <th></th>\n",
       "      <th>age</th>\n",
       "      <th>NumCallouts</th>\n",
       "      <th>NumDiagnosis</th>\n",
       "      <th>NumProcs</th>\n",
       "      <th>NumCPTevents</th>\n",
       "      <th>NumInput</th>\n",
       "      <th>NumLabs</th>\n",
       "      <th>NumMicroLabs</th>\n",
       "      <th>NumNotes</th>\n",
       "      <th>NumOutput</th>\n",
       "      <th>...</th>\n",
       "      <th>ExpiredHospital</th>\n",
       "      <th>TotalNumInteract</th>\n",
       "      <th>gender</th>\n",
       "      <th>admit_type</th>\n",
       "      <th>admit_location</th>\n",
       "      <th>insurance</th>\n",
       "      <th>religion</th>\n",
       "      <th>ethnicity</th>\n",
       "      <th>LOSgroupNum</th>\n",
       "      <th>count</th>\n",
       "    </tr>\n",
       "  </thead>\n",
       "  <tbody>\n",
       "    <tr>\n",
       "      <th>236</th>\n",
       "      <td>53.005884</td>\n",
       "      <td>0.099374</td>\n",
       "      <td>2.67596</td>\n",
       "      <td>0.785599</td>\n",
       "      <td>1.074118</td>\n",
       "      <td>30.379017</td>\n",
       "      <td>46.421124</td>\n",
       "      <td>1.219913</td>\n",
       "      <td>6.464789</td>\n",
       "      <td>7.111594</td>\n",
       "      <td>...</td>\n",
       "      <td>0.099261</td>\n",
       "      <td>636.115579</td>\n",
       "      <td>M,F</td>\n",
       "      <td>URGENT,ELECTIVE,NEWBORN,EMERGENCY</td>\n",
       "      <td>HMO REFERRAL/SICK,** INFO NOT AVAILABLE **,TRS...</td>\n",
       "      <td>Medicaid,Self Pay,Government,Medicare,Private</td>\n",
       "      <td>7TH DAY ADVENTIST,NOT SPECIFIED,JEHOVAH'S WITN...</td>\n",
       "      <td>HISPANIC/LATINO - MEXICAN,HISPANIC/LATINO - CU...</td>\n",
       "      <td>2</td>\n",
       "      <td>314</td>\n",
       "    </tr>\n",
       "    <tr>\n",
       "      <th>237</th>\n",
       "      <td>53.005884</td>\n",
       "      <td>0.099374</td>\n",
       "      <td>2.67596</td>\n",
       "      <td>0.785599</td>\n",
       "      <td>1.074118</td>\n",
       "      <td>30.379017</td>\n",
       "      <td>46.421124</td>\n",
       "      <td>1.219913</td>\n",
       "      <td>6.464789</td>\n",
       "      <td>7.111594</td>\n",
       "      <td>...</td>\n",
       "      <td>0.099261</td>\n",
       "      <td>636.115579</td>\n",
       "      <td>M,F</td>\n",
       "      <td>URGENT,ELECTIVE,NEWBORN,EMERGENCY</td>\n",
       "      <td>HMO REFERRAL/SICK,** INFO NOT AVAILABLE **,TRS...</td>\n",
       "      <td>Medicaid,Self Pay,Government,Medicare,Private</td>\n",
       "      <td>7TH DAY ADVENTIST,NOT SPECIFIED,JEHOVAH'S WITN...</td>\n",
       "      <td>HISPANIC/LATINO - MEXICAN,HISPANIC/LATINO - CU...</td>\n",
       "      <td>3</td>\n",
       "      <td>273</td>\n",
       "    </tr>\n",
       "    <tr>\n",
       "      <th>238</th>\n",
       "      <td>53.005884</td>\n",
       "      <td>0.099374</td>\n",
       "      <td>2.67596</td>\n",
       "      <td>0.785599</td>\n",
       "      <td>1.074118</td>\n",
       "      <td>30.379017</td>\n",
       "      <td>46.421124</td>\n",
       "      <td>1.219913</td>\n",
       "      <td>6.464789</td>\n",
       "      <td>7.111594</td>\n",
       "      <td>...</td>\n",
       "      <td>0.099261</td>\n",
       "      <td>636.115579</td>\n",
       "      <td>M,F</td>\n",
       "      <td>URGENT,ELECTIVE,NEWBORN,EMERGENCY</td>\n",
       "      <td>HMO REFERRAL/SICK,** INFO NOT AVAILABLE **,TRS...</td>\n",
       "      <td>Medicaid,Self Pay,Government,Medicare,Private</td>\n",
       "      <td>7TH DAY ADVENTIST,NOT SPECIFIED,JEHOVAH'S WITN...</td>\n",
       "      <td>HISPANIC/LATINO - MEXICAN,HISPANIC/LATINO - CU...</td>\n",
       "      <td>1</td>\n",
       "      <td>185</td>\n",
       "    </tr>\n",
       "    <tr>\n",
       "      <th>239</th>\n",
       "      <td>53.005884</td>\n",
       "      <td>0.099374</td>\n",
       "      <td>2.67596</td>\n",
       "      <td>0.785599</td>\n",
       "      <td>1.074118</td>\n",
       "      <td>30.379017</td>\n",
       "      <td>46.421124</td>\n",
       "      <td>1.219913</td>\n",
       "      <td>6.464789</td>\n",
       "      <td>7.111594</td>\n",
       "      <td>...</td>\n",
       "      <td>0.099261</td>\n",
       "      <td>636.115579</td>\n",
       "      <td>M,F</td>\n",
       "      <td>URGENT,ELECTIVE,NEWBORN,EMERGENCY</td>\n",
       "      <td>HMO REFERRAL/SICK,** INFO NOT AVAILABLE **,TRS...</td>\n",
       "      <td>Medicaid,Self Pay,Government,Medicare,Private</td>\n",
       "      <td>7TH DAY ADVENTIST,NOT SPECIFIED,JEHOVAH'S WITN...</td>\n",
       "      <td>HISPANIC/LATINO - MEXICAN,HISPANIC/LATINO - CU...</td>\n",
       "      <td>2</td>\n",
       "      <td>273</td>\n",
       "    </tr>\n",
       "    <tr>\n",
       "      <th>240</th>\n",
       "      <td>53.005884</td>\n",
       "      <td>0.099374</td>\n",
       "      <td>2.67596</td>\n",
       "      <td>0.785599</td>\n",
       "      <td>1.074118</td>\n",
       "      <td>30.379017</td>\n",
       "      <td>46.421124</td>\n",
       "      <td>1.219913</td>\n",
       "      <td>6.464789</td>\n",
       "      <td>7.111594</td>\n",
       "      <td>...</td>\n",
       "      <td>0.099261</td>\n",
       "      <td>636.115579</td>\n",
       "      <td>M,F</td>\n",
       "      <td>URGENT,ELECTIVE,NEWBORN,EMERGENCY</td>\n",
       "      <td>HMO REFERRAL/SICK,** INFO NOT AVAILABLE **,TRS...</td>\n",
       "      <td>Medicaid,Self Pay,Government,Medicare,Private</td>\n",
       "      <td>7TH DAY ADVENTIST,NOT SPECIFIED,JEHOVAH'S WITN...</td>\n",
       "      <td>HISPANIC/LATINO - MEXICAN,HISPANIC/LATINO - CU...</td>\n",
       "      <td>3</td>\n",
       "      <td>323</td>\n",
       "    </tr>\n",
       "  </tbody>\n",
       "</table>\n",
       "<p>5 rows × 24 columns</p>\n",
       "</div>"
      ],
      "text/plain": [
       "           age  NumCallouts  NumDiagnosis  NumProcs  NumCPTevents   NumInput  \\\n",
       "236  53.005884     0.099374       2.67596  0.785599      1.074118  30.379017   \n",
       "237  53.005884     0.099374       2.67596  0.785599      1.074118  30.379017   \n",
       "238  53.005884     0.099374       2.67596  0.785599      1.074118  30.379017   \n",
       "239  53.005884     0.099374       2.67596  0.785599      1.074118  30.379017   \n",
       "240  53.005884     0.099374       2.67596  0.785599      1.074118  30.379017   \n",
       "\n",
       "       NumLabs  NumMicroLabs  NumNotes  NumOutput  ...  ExpiredHospital  \\\n",
       "236  46.421124      1.219913  6.464789   7.111594  ...         0.099261   \n",
       "237  46.421124      1.219913  6.464789   7.111594  ...         0.099261   \n",
       "238  46.421124      1.219913  6.464789   7.111594  ...         0.099261   \n",
       "239  46.421124      1.219913  6.464789   7.111594  ...         0.099261   \n",
       "240  46.421124      1.219913  6.464789   7.111594  ...         0.099261   \n",
       "\n",
       "     TotalNumInteract  gender                         admit_type  \\\n",
       "236        636.115579     M,F  URGENT,ELECTIVE,NEWBORN,EMERGENCY   \n",
       "237        636.115579     M,F  URGENT,ELECTIVE,NEWBORN,EMERGENCY   \n",
       "238        636.115579     M,F  URGENT,ELECTIVE,NEWBORN,EMERGENCY   \n",
       "239        636.115579     M,F  URGENT,ELECTIVE,NEWBORN,EMERGENCY   \n",
       "240        636.115579     M,F  URGENT,ELECTIVE,NEWBORN,EMERGENCY   \n",
       "\n",
       "                                        admit_location  \\\n",
       "236  HMO REFERRAL/SICK,** INFO NOT AVAILABLE **,TRS...   \n",
       "237  HMO REFERRAL/SICK,** INFO NOT AVAILABLE **,TRS...   \n",
       "238  HMO REFERRAL/SICK,** INFO NOT AVAILABLE **,TRS...   \n",
       "239  HMO REFERRAL/SICK,** INFO NOT AVAILABLE **,TRS...   \n",
       "240  HMO REFERRAL/SICK,** INFO NOT AVAILABLE **,TRS...   \n",
       "\n",
       "                                         insurance  \\\n",
       "236  Medicaid,Self Pay,Government,Medicare,Private   \n",
       "237  Medicaid,Self Pay,Government,Medicare,Private   \n",
       "238  Medicaid,Self Pay,Government,Medicare,Private   \n",
       "239  Medicaid,Self Pay,Government,Medicare,Private   \n",
       "240  Medicaid,Self Pay,Government,Medicare,Private   \n",
       "\n",
       "                                              religion  \\\n",
       "236  7TH DAY ADVENTIST,NOT SPECIFIED,JEHOVAH'S WITN...   \n",
       "237  7TH DAY ADVENTIST,NOT SPECIFIED,JEHOVAH'S WITN...   \n",
       "238  7TH DAY ADVENTIST,NOT SPECIFIED,JEHOVAH'S WITN...   \n",
       "239  7TH DAY ADVENTIST,NOT SPECIFIED,JEHOVAH'S WITN...   \n",
       "240  7TH DAY ADVENTIST,NOT SPECIFIED,JEHOVAH'S WITN...   \n",
       "\n",
       "                                             ethnicity LOSgroupNum count  \n",
       "236  HISPANIC/LATINO - MEXICAN,HISPANIC/LATINO - CU...           2   314  \n",
       "237  HISPANIC/LATINO - MEXICAN,HISPANIC/LATINO - CU...           3   273  \n",
       "238  HISPANIC/LATINO - MEXICAN,HISPANIC/LATINO - CU...           1   185  \n",
       "239  HISPANIC/LATINO - MEXICAN,HISPANIC/LATINO - CU...           2   273  \n",
       "240  HISPANIC/LATINO - MEXICAN,HISPANIC/LATINO - CU...           3   323  \n",
       "\n",
       "[5 rows x 24 columns]"
      ]
     },
     "execution_count": 20,
     "metadata": {},
     "output_type": "execute_result"
    }
   ],
   "source": [
    "dfn.tail()"
   ]
  },
  {
   "cell_type": "code",
   "execution_count": 21,
   "metadata": {},
   "outputs": [],
   "source": [
    "# we sort the resulting dataframe using the feature columns and the sensitive attribute\n",
    "# print(\"dfn.sort_values\\n\",\n",
    "#       dfn.sort_values(feature_columns+[sensitive_column]))"
   ]
  },
  {
   "cell_type": "markdown",
   "metadata": {},
   "source": [
    "# Implementing l-diversity (the naive way)\n",
    "\n",
    "Now let's see how we can implement l-diversity in order to protect the privacy of the persons in the dataset even better. To implement l-diversity, we can do the following things:\n",
    "\n",
    "* Modify our `is_valid` function to not only check for the size of a given partition but also ensure that the values of the sensitive attribute in the partition are diverse enough.\n",
    "* Modify the `split` function to produce splits that are diverse (if possible)"
   ]
  },
  {
   "cell_type": "markdown",
   "metadata": {},
   "source": [
    "**Implement a validator function that returns `True` if a given partition contains at least `l` different values of the sensitive attribute, `False` otherwise.**"
   ]
  },
  {
   "cell_type": "code",
   "execution_count": 22,
   "metadata": {},
   "outputs": [],
   "source": [
    "def diversity(df, partition, column):\n",
    "    return len(df[column][partition].unique())\n",
    "\n",
    "def is_l_diverse(df, partition, sensitive_column, l=2):\n",
    "    \"\"\"\n",
    "    :param               df: The dataframe for which to check l-diversity\n",
    "    :param        partition: The partition of the dataframe on which to check l-diversity\n",
    "    :param sensitive_column: The name of the sensitive column\n",
    "    :param                l: The minimum required diversity of sensitive attribute values in the partition\n",
    "    \"\"\"\n",
    "    return diversity(df, partition, sensitive_column) >= l"
   ]
  },
  {
   "cell_type": "code",
   "execution_count": 23,
   "metadata": {},
   "outputs": [],
   "source": [
    "# now let's apply this method to our data and see how the result changes\n",
    "finished_l_diverse_partitions = partition_dataset(df, \n",
    "                                                  feature_columns, \n",
    "                                                  sensitive_column, \n",
    "                                                  full_spans, lambda *args: is_k_anonymous(*args) and is_l_diverse(*args))"
   ]
  },
  {
   "cell_type": "code",
   "execution_count": 24,
   "metadata": {},
   "outputs": [
    {
     "name": "stdout",
     "output_type": "stream",
     "text": [
      "len(finished_l_diverse_partitions): 63\n"
     ]
    }
   ],
   "source": [
    "print(\"len(finished_l_diverse_partitions):\",len(finished_l_diverse_partitions))"
   ]
  },
  {
   "cell_type": "code",
   "execution_count": 25,
   "metadata": {},
   "outputs": [],
   "source": [
    "column_x, column_y = \"NumTransfers\", \"NumCallouts\"\n",
    "l_diverse_rects = get_partition_rects(df, \n",
    "                                      finished_l_diverse_partitions, \n",
    "                                      column_x, column_y, \n",
    "                                      indexes, \n",
    "                                      offsets=[0.0, 0.0])"
   ]
  },
  {
   "cell_type": "code",
   "execution_count": 26,
   "metadata": {},
   "outputs": [
    {
     "data": {
      "image/png": "[encoded data removed]",
      "text/plain": [
       "<Figure size 1600x1600 with 1 Axes>"
      ]
     },
     "metadata": {},
     "output_type": "display_data"
    }
   ],
   "source": [
    "# plt.figure(figsize=(80,40))\n",
    "# ax1 = plt.subplot(121)\n",
    "# ax2 = plt.subplot(122)\n",
    "# plot_rects(df, ax1, l_diverse_rects, column_x, column_y, edgecolor='k', facecolor='b')\n",
    "# plot_rects(df, ax2, rects, column_x, column_y, facecolor='r')\n",
    "# ax1.scatter(df[column_x], df[column_y])\n",
    "# ax2.scatter(df[column_x], df[column_y])\n",
    "\n",
    "plt.figure(figsize=(20,20))\n",
    "ax = plt.subplot(111)\n",
    "plot_rects(df, ax, rects, column_x, column_y, facecolor='r')\n",
    "plot_rects(df, ax, l_diverse_rects, column_x, column_y, edgecolor='k', facecolor='b')\n",
    "ax.scatter(df[column_x], df[column_y],color='k',s=85)\n",
    "plt.savefig(\"plots/after_l_diversity.pdf\",\n",
    "           bbox_inches=\"tight\",\n",
    "           dpi=300)"
   ]
  },
  {
   "cell_type": "code",
   "execution_count": 27,
   "metadata": {},
   "outputs": [
    {
     "name": "stdout",
     "output_type": "stream",
     "text": [
      "Finished 1 partitions...\n"
     ]
    }
   ],
   "source": [
    "# again we build an anonymized dataset from the l-diverse partitions\n",
    "dfl = build_anonymized_dataset(df, \n",
    "                               finished_l_diverse_partitions, \n",
    "                               feature_columns, \n",
    "                               sensitive_column,\n",
    "                              categorical)"
   ]
  },
  {
   "cell_type": "code",
   "execution_count": 28,
   "metadata": {},
   "outputs": [],
   "source": [
    "# Let's see how l-diversity improves the anonymity of our dataset\n",
    "# print(\"dfl.sort_values\\n\",\n",
    "#       dfl.sort_values([column_x, column_y, sensitive_column]))"
   ]
  },
  {
   "cell_type": "markdown",
   "metadata": {},
   "source": [
    "# Implementing t-closeness\n",
    "\n",
    "As we can see, for regions where the value diversity is low, our l-diverse method produces partitions that contain a very large number of entries for one value of the sensitive attribute and only one entry for the other value. This is not ideal as while there is \"plausible deniability\" for a person in the dataset (after all the person could be the one \"outlier\") but an adversary can still be very certain about the person's attribute value in that case.\n",
    "\n",
    "t-closeness solves this problem by making sure that the distribution of sensitive attribute values in a given partition is similar to the distribution of the values in the overall dataset."
   ]
  },
  {
   "cell_type": "markdown",
   "metadata": {},
   "source": [
    "**Implement a version of the `is_valid` function that returns `True` if the partition is diverse enough and `False` otherwise. To measure diversity, calculate the Kolmogorov-Smirnov distance between the empirical\n",
    "probability distribution of the sensitive attribute over the entire dataset vs. the distribution over\n",
    "the partition. Hint: the Kolmogorov-Smirnov distance is the maximum distance between the two distributions.\n",
    "You can assume that the sensitive attribute is a categorical value.**"
   ]
  },
  {
   "cell_type": "code",
   "execution_count": 29,
   "metadata": {},
   "outputs": [],
   "source": [
    "# here we generate the global frequencies for the sensitive column \n",
    "global_freqs = {}\n",
    "total_count = float(len(df))\n",
    "group_counts = df.groupby(sensitive_column)[sensitive_column].agg('count')\n",
    "for value, count in group_counts.to_dict().items():\n",
    "    p = count/total_count\n",
    "    global_freqs[value] = p"
   ]
  },
  {
   "cell_type": "code",
   "execution_count": 30,
   "metadata": {},
   "outputs": [
    {
     "name": "stdout",
     "output_type": "stream",
     "text": [
      "Global Frequencies for the sensitive column\n",
      "val: 0, prob: 0.2817756375474769\n",
      "val: 1, prob: 0.31801071622354854\n",
      "val: 2, prob: 0.1584034183396636\n",
      "val: 3, prob: 0.24181022788931092\n"
     ]
    }
   ],
   "source": [
    "print(\"Global Frequencies for the sensitive column\")\n",
    "for k,v in global_freqs.items():\n",
    "    print(\"val: {}, prob: {}\".format(k,v))"
   ]
  },
  {
   "cell_type": "code",
   "execution_count": 31,
   "metadata": {},
   "outputs": [],
   "source": [
    "def t_closeness(df, partition, column, global_freqs):\n",
    "    total_count = float(len(partition))\n",
    "    d_max = None\n",
    "    group_counts = df.loc[partition].groupby(column)[column].agg('count')\n",
    "    for value, count in group_counts.to_dict().items():\n",
    "        p = count/total_count\n",
    "        d = abs(p-global_freqs[value])\n",
    "        if d_max is None or d > d_max:\n",
    "            d_max = d\n",
    "    return d_max\n",
    "\n",
    "\n",
    "def is_t_close(df, partition, sensitive_column, global_freqs, p=0.2):\n",
    "    \"\"\"\n",
    "    :param               df: The dataframe for which to check l-diversity\n",
    "    :param        partition: The partition of the dataframe on which to check l-diversity\n",
    "    :param sensitive_column: The name of the sensitive column\n",
    "    :param     global_freqs: The global frequencies of the sensitive attribute values\n",
    "    :param                p: The maximum allowed Kolmogorov-Smirnov distance\n",
    "    \"\"\"\n",
    "    if not sensitive_column in categorical:\n",
    "        raise ValueError(\"this method only works for categorical values\")\n",
    "    return t_closeness(df, partition, sensitive_column, global_freqs) <= p"
   ]
  },
  {
   "cell_type": "code",
   "execution_count": 32,
   "metadata": {},
   "outputs": [],
   "source": [
    "# Let's apply this to our dataset\n",
    "finished_t_close_partitions = partition_dataset(df, \n",
    "                                                feature_columns, \n",
    "                                                sensitive_column, \n",
    "                                                full_spans, \n",
    "                                                lambda *args: is_k_anonymous(*args) and is_t_close(*args, global_freqs))"
   ]
  },
  {
   "cell_type": "code",
   "execution_count": 33,
   "metadata": {},
   "outputs": [
    {
     "name": "stdout",
     "output_type": "stream",
     "text": [
      "len(finished_t_close_partitions): 56\n"
     ]
    }
   ],
   "source": [
    "print(\"len(finished_t_close_partitions):\",len(finished_t_close_partitions))"
   ]
  },
  {
   "cell_type": "code",
   "execution_count": 34,
   "metadata": {},
   "outputs": [
    {
     "name": "stdout",
     "output_type": "stream",
     "text": [
      "Finished 1 partitions...\n"
     ]
    }
   ],
   "source": [
    "dft = build_anonymized_dataset(df, \n",
    "                               finished_t_close_partitions, \n",
    "                               feature_columns, \n",
    "                               sensitive_column,\n",
    "                              categorical)"
   ]
  },
  {
   "cell_type": "code",
   "execution_count": 35,
   "metadata": {},
   "outputs": [],
   "source": [
    "# Let's see how t-closeness fares\n",
    "# print(\"dft.sort_values\\n\",\n",
    "#       dft.sort_values([column_x, column_y, sensitive_column]))"
   ]
  },
  {
   "cell_type": "code",
   "execution_count": 36,
   "metadata": {},
   "outputs": [],
   "source": [
    "column_x, column_y = \"NumTransfers\", \"NumCallouts\"\n",
    "t_close_rects = get_partition_rects(df, \n",
    "                                    finished_t_close_partitions, \n",
    "                                    column_x, column_y, \n",
    "                                    indexes, offsets=[0.0, 0.0])"
   ]
  },
  {
   "cell_type": "code",
   "execution_count": 37,
   "metadata": {},
   "outputs": [
    {
     "data": {
      "image/png": "[encoded data removed]",
      "text/plain": [
       "<Figure size 1600x1600 with 1 Axes>"
      ]
     },
     "metadata": {},
     "output_type": "display_data"
    }
   ],
   "source": [
    "plt.figure(figsize=(20,20))\n",
    "ax = plt.subplot(111)\n",
    "plot_rects(df, ax, t_close_rects, column_x, column_y, edgecolor='k', facecolor='b')\n",
    "plt.scatter(df[column_x], df[column_y],color=\"k\",s=85)\n",
    "plt.savefig(\"plots/after_t_closeness.pdf\",\n",
    "           bbox_inches=\"tight\",\n",
    "           dpi=300)"
   ]
  },
  {
   "cell_type": "code",
   "execution_count": 38,
   "metadata": {},
   "outputs": [
    {
     "name": "stderr",
     "output_type": "stream",
     "text": [
      "/home/akshaybaj/.local/lib/python3.8/site-packages/pkg_resources/__init__.py:122: PkgResourcesDeprecationWarning: 0.1.36ubuntu1 is an invalid version and will not be supported in a future release\n",
      "  warnings.warn(\n",
      "/home/akshaybaj/.local/lib/python3.8/site-packages/pkg_resources/__init__.py:122: PkgResourcesDeprecationWarning: 0.23ubuntu1 is an invalid version and will not be supported in a future release\n",
      "  warnings.warn(\n"
     ]
    }
   ],
   "source": [
    "from sklearn.model_selection import train_test_split\n",
    "from sklearn.svm import SVC\n",
    "from sklearn.preprocessing import StandardScaler\n",
    "from sklearn.metrics import accuracy_score, confusion_matrix\n",
    "from sklearn.linear_model import LogisticRegression\n",
    "from xgboost import XGBClassifier\n",
    "from sklearn.ensemble import RandomForestClassifier"
   ]
  },
  {
   "cell_type": "code",
   "execution_count": 39,
   "metadata": {},
   "outputs": [
    {
     "name": "stdout",
     "output_type": "stream",
     "text": [
      "Defaulting to user installation because normal site-packages is not writeable\n",
      "Requirement already satisfied: xgboost in /home/akshaybaj/.local/lib/python3.8/site-packages (1.6.0)\n",
      "Requirement already satisfied: scipy in /home/akshaybaj/.local/lib/python3.8/site-packages (from xgboost) (1.8.0)\n",
      "Requirement already satisfied: numpy in /usr/local/lib/python3.8/dist-packages (from xgboost) (1.21.5)\n"
     ]
    }
   ],
   "source": [
    "!pip3 install xgboost"
   ]
  },
  {
   "cell_type": "code",
   "execution_count": 40,
   "metadata": {},
   "outputs": [],
   "source": [
    "random_state=11\n",
    "\n",
    "svc = SVC(random_state=random_state)\n",
    "clf = LogisticRegression(random_state=random_state)\n",
    "rf = RandomForestClassifier(n_estimators=500,random_state=random_state)\n",
    "xgb = XGBClassifier(random_state=random_state)\n",
    "\n",
    "models = [svc, clf, rf, xgb]\n",
    "model_names = [\"Support Vector Classifier\", \n",
    "              \"Logistic Regression\",\n",
    "              \"Random Forest Classifier\",\n",
    "               \"XGBoost\",]\n",
    "\n",
    "sc = StandardScaler()"
   ]
  },
  {
   "cell_type": "code",
   "execution_count": 41,
   "metadata": {},
   "outputs": [],
   "source": [
    "def convert_categorical(df,iscategory=True):\n",
    "    if iscategory:\n",
    "        cat_cols = [col for col in df.columns if df[col].dtype.name==\"category\" and col!=\"LOSgroupNum\"]\n",
    "    else:\n",
    "        cat_cols = [col for col in df.columns if df[col].dtype==\"object\" and col!=\"LOSgroupNum\"]\n",
    "    #df_copy = df.copy(deep=True)\n",
    "    for col in cat_cols:\n",
    "        df = pd.concat([df,\n",
    "                        pd.get_dummies(df[col], \n",
    "                                       prefix=col,\n",
    "                                       dummy_na=True)],axis=1)\n",
    "        df.drop([col],axis=1, inplace=True)\n",
    "    return df\n",
    "\n",
    "def train_and_test(df, predict_col, model, model_name, test_size=0.25):\n",
    "    # print(df.columns)\n",
    "    # print(df[predict_col])\n",
    "    \n",
    "    y = df[predict_col].astype('int')\n",
    "    X=df.drop(predict_col,axis=1)\n",
    "    #X=df\n",
    "    X = sc.fit_transform(X)\n",
    "    print(\"Standardization Done\")\n",
    "    x_train, x_test, y_train, y_test = train_test_split(X,\n",
    "                                                       y,\n",
    "                                                       test_size=test_size)\n",
    "    print(\"Split done for train/val\")\n",
    "    model.fit(x_train, y_train)\n",
    "    y_pred = model.predict(x_test)\n",
    "    \n",
    "    acc = accuracy_score(y_pred, y_test)\n",
    "    print(\"Model Name: {}, Accuracy: {:.3f}%\".format(model_name,\n",
    "                                               acc*100))\n",
    "    print(confusion_matrix(y_pred, y_test))\n",
    "    \n",
    "    "
   ]
  },
  {
   "cell_type": "code",
   "execution_count": 42,
   "metadata": {},
   "outputs": [],
   "source": [
    "# cat_cols = [col for col in df.columns if df[col].dtype.name==\"category\"]\n",
    "# #df_copy = df.copy(deep=True)\n",
    "# for col in cat_cols:\n",
    "#     df = pd.concat([df,\n",
    "#                     pd.get_dummies(df[col], \n",
    "#                                    prefix=col,\n",
    "#                                    dummy_na=True)],axis=1)\n",
    "#     df.drop([col],axis=1, inplace=True)\n",
    "\n",
    "df_cat = convert_categorical(df)"
   ]
  },
  {
   "cell_type": "code",
   "execution_count": 43,
   "metadata": {},
   "outputs": [],
   "source": [
    "### train_and_test(df_cat, \"LOSgroupNum\", models[0], model_names[0])\n",
    "# for model, model_name in zip(models, model_names):\n",
    "#     train_and_test(df_cat, \"LOSgroupNum\", model, model_name)\n",
    "# train_and_test(df_cat, \"LOSgroupNum\", models[3], model_name[3])"
   ]
  },
  {
   "cell_type": "code",
   "execution_count": 44,
   "metadata": {},
   "outputs": [
    {
     "name": "stdout",
     "output_type": "stream",
     "text": [
      "Standardization Done\n",
      "Split done for train/val\n",
      "Model Name: Support Vector Classifier, Accuracy: 42.623%\n",
      "[[ 2  0  1  1]\n",
      " [ 8 10  5  7]\n",
      " [ 4  4 12  5]\n",
      " [ 0  0  0  2]]\n",
      "Standardization Done\n",
      "Split done for train/val\n",
      "Model Name: Logistic Regression, Accuracy: 22.951%\n",
      "[[ 0  0  0  0]\n",
      " [11  3  4 12]\n",
      " [ 6  6 11  8]\n",
      " [ 0  0  0  0]]\n",
      "Standardization Done\n",
      "Split done for train/val\n",
      "Model Name: Random Forest Classifier, Accuracy: 40.984%\n",
      "[[ 3  4  2  5]\n",
      " [ 0 11  7  5]\n",
      " [ 4  2  5  1]\n",
      " [ 2  2  2  6]]\n",
      "Standardization Done\n",
      "Split done for train/val\n",
      "Model Name: XGBoost, Accuracy: 39.344%\n",
      "[[4 3 2 4]\n",
      " [2 6 2 3]\n",
      " [2 1 9 5]\n",
      " [2 4 7 5]]\n"
     ]
    }
   ],
   "source": [
    "\n",
    "# cat_cols = [col for col in dfn.columns if dfn[col].dtype==\"object\"]\n",
    "# #print(dfn.dtypes)\n",
    "# #df_copy = df.copy(deep=True)\n",
    "# for col in cat_cols:\n",
    "#     dfn = pd.concat([dfn,\n",
    "#                     pd.get_dummies(dfn[col], \n",
    "#                                    prefix=col,\n",
    "#                                    dummy_na=True)],axis=1)\n",
    "#     dfn.drop([col],axis=1, inplace=True)\n",
    "# dfn.head()\n",
    "\n",
    "dfn_cat = convert_categorical(dfn,False)\n",
    "for model, model_name in zip(models, model_names):\n",
    "    train_and_test(dfn_cat, \"LOSgroupNum\", model, model_name)"
   ]
  },
  {
   "cell_type": "code",
   "execution_count": 45,
   "metadata": {},
   "outputs": [
    {
     "name": "stdout",
     "output_type": "stream",
     "text": [
      "Standardization Done\n",
      "Split done for train/val\n",
      "Model Name: Support Vector Classifier, Accuracy: 37.705%\n",
      "[[ 1  0  1  1]\n",
      " [ 6 13  9  8]\n",
      " [ 5  1  9  7]\n",
      " [ 0  0  0  0]]\n",
      "Standardization Done\n",
      "Split done for train/val\n",
      "Model Name: Logistic Regression, Accuracy: 32.787%\n",
      "[[ 0  0  0  0]\n",
      " [ 6  8  1  5]\n",
      " [ 3  2  8  3]\n",
      " [ 6 10  5  4]]\n",
      "Standardization Done\n",
      "Split done for train/val\n",
      "Model Name: Random Forest Classifier, Accuracy: 39.344%\n",
      "[[3 4 1 4]\n",
      " [2 9 3 3]\n",
      " [4 0 9 4]\n",
      " [2 4 6 3]]\n",
      "Standardization Done\n",
      "Split done for train/val\n",
      "Model Name: XGBoost, Accuracy: 44.262%\n",
      "[[ 3  1  1  4]\n",
      " [ 3  8  2  6]\n",
      " [ 5  2 12  3]\n",
      " [ 1  4  2  4]]\n"
     ]
    }
   ],
   "source": [
    "# cat_cols = [col for col in dfl.columns if dfl[col].dtype==\"object\"]\n",
    "# #print(dfn.dtypes)\n",
    "# #df_copy = df.copy(deep=True)\n",
    "# for col in cat_cols:\n",
    "#     dfl = pd.concat([dfl,\n",
    "#                     pd.get_dummies(dfl[col], \n",
    "#                                    prefix=col,\n",
    "#                                    dummy_na=True)],axis=1)\n",
    "#     dfl.drop([col],axis=1, inplace=True)\n",
    "# dfl.head()\n",
    "\n",
    "dfl_cat = convert_categorical(dfl,False)\n",
    "for model, model_name in zip(models, model_names):\n",
    "    train_and_test(dfl_cat, \"LOSgroupNum\", model, model_name)"
   ]
  },
  {
   "cell_type": "code",
   "execution_count": 46,
   "metadata": {},
   "outputs": [
    {
     "name": "stdout",
     "output_type": "stream",
     "text": [
      "Standardization Done\n",
      "Split done for train/val\n",
      "Model Name: Support Vector Classifier, Accuracy: 21.429%\n",
      "[[0 3 1 0]\n",
      " [8 7 1 8]\n",
      " [8 3 4 7]\n",
      " [2 2 1 1]]\n",
      "Standardization Done\n",
      "Split done for train/val\n",
      "Model Name: Logistic Regression, Accuracy: 30.357%\n",
      "[[ 4  6  0  4]\n",
      " [ 0  1  0  2]\n",
      " [ 6  3 10  7]\n",
      " [ 4  6  1  2]]\n",
      "Standardization Done\n",
      "Split done for train/val\n",
      "Model Name: Random Forest Classifier, Accuracy: 32.143%\n",
      "[[5 5 2 6]\n",
      " [5 5 2 2]\n",
      " [1 2 5 3]\n",
      " [2 4 4 3]]\n",
      "Standardization Done\n",
      "Split done for train/val\n",
      "Model Name: XGBoost, Accuracy: 35.714%\n",
      "[[3 2 1 1]\n",
      " [2 6 3 1]\n",
      " [6 3 9 4]\n",
      " [5 5 3 2]]\n"
     ]
    }
   ],
   "source": [
    "# cat_cols = [col for col in dft.columns if dft[col].dtype==\"object\"]\n",
    "# #print(dfn.dtypes)\n",
    "# #df_copy = df.copy(deep=True)\n",
    "# for col in cat_cols:\n",
    "#     dft = pd.concat([dft,\n",
    "#                     pd.get_dummies(dft[col], \n",
    "#                                    prefix=col,\n",
    "#                                    dummy_na=True)],axis=1)\n",
    "#     dft.drop([col],axis=1, inplace=True)\n",
    "# dft.head()\n",
    "\n",
    "dft_cat = convert_categorical(dft,False)\n",
    "for model, model_name in zip(models, model_names):\n",
    "    train_and_test(dft_cat, \"LOSgroupNum\", model, model_name)"
   ]
  },
  {
   "cell_type": "code",
   "execution_count": null,
   "metadata": {},
   "outputs": [],
   "source": []
  },
  {
   "cell_type": "code",
   "execution_count": null,
   "metadata": {},
   "outputs": [],
   "source": []
  },
  {
   "cell_type": "code",
   "execution_count": null,
   "metadata": {},
   "outputs": [],
   "source": []
  }
 ],
 "metadata": {
  "kernelspec": {
   "display_name": "Python 3 (ipykernel)",
   "language": "python",
   "name": "python3"
  },
  "language_info": {
   "codemirror_mode": {
    "name": "ipython",
    "version": 3
   },
   "file_extension": ".py",
   "mimetype": "text/x-python",
   "name": "python",
   "nbconvert_exporter": "python",
   "pygments_lexer": "ipython3",
   "version": "3.8.10"
  }
 },
 "nbformat": 4,
 "nbformat_minor": 2
}
